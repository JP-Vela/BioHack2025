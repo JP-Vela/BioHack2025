{
 "cells": [
  {
   "cell_type": "code",
   "execution_count": 23,
   "metadata": {},
   "outputs": [],
   "source": [
    "import pandas as pd\n",
    "import numpy as np"
   ]
  },
  {
   "cell_type": "code",
   "execution_count": 43,
   "metadata": {},
   "outputs": [],
   "source": [
    "to_check = ['Jonny_concentrating.csv', 'Josh_concentrating.csv', 'Cooper_concentrating.csv']\n",
    "\n",
    "total_max = 0\n",
    "total_min = 0\n",
    "\n",
    "for filename in to_check:\n",
    "    filepath = 'dataset/our_data_cn_copy/'\n",
    "    df = pd.read_csv(filepath+filename)\n",
    "    as_arr = np.array(df)\n",
    "    total_max += as_arr.max()\n",
    "    total_min += as_arr.min()\n",
    "\n",
    "avg_max = total_max/len(to_check)\n",
    "avg_min = total_min/len(to_check)"
   ]
  },
  {
   "cell_type": "code",
   "execution_count": 36,
   "metadata": {},
   "outputs": [],
   "source": [
    "filepath = 'dataset/our_data_old/leutral_johnpaul1.csv'\n",
    "df = pd.read_csv(filepath)\n",
    "as_arr = np.array(df)"
   ]
  },
  {
   "cell_type": "code",
   "execution_count": 37,
   "metadata": {},
   "outputs": [],
   "source": [
    "my_max = as_arr.max()"
   ]
  },
  {
   "cell_type": "code",
   "execution_count": 40,
   "metadata": {},
   "outputs": [
    {
     "data": {
      "text/plain": [
       "270155.21133351326"
      ]
     },
     "execution_count": 40,
     "metadata": {},
     "output_type": "execute_result"
    }
   ],
   "source": [
    "avg_max-my_max"
   ]
  },
  {
   "cell_type": "code",
   "execution_count": 41,
   "metadata": {},
   "outputs": [
    {
     "name": "stdout",
     "output_type": "stream",
     "text": [
      "1742953855.561\n"
     ]
    }
   ],
   "source": [
    "my_range = as_arr.max()-as_arr.min()\n",
    "print(my_range)"
   ]
  },
  {
   "cell_type": "code",
   "execution_count": 45,
   "metadata": {},
   "outputs": [
    {
     "name": "stdout",
     "output_type": "stream",
     "text": [
      "1742955959.0133336\n"
     ]
    }
   ],
   "source": [
    "their_range = avg_max-avg_min\n",
    "print(their_range)"
   ]
  },
  {
   "cell_type": "code",
   "execution_count": 47,
   "metadata": {},
   "outputs": [
    {
     "data": {
      "text/plain": [
       "2103.4523334503174"
      ]
     },
     "execution_count": 47,
     "metadata": {},
     "output_type": "execute_result"
    }
   ],
   "source": [
    "their_range-my_range"
   ]
  },
  {
   "cell_type": "code",
   "execution_count": null,
   "metadata": {},
   "outputs": [],
   "source": []
  }
 ],
 "metadata": {
  "kernelspec": {
   "display_name": "BioHack",
   "language": "python",
   "name": "python3"
  },
  "language_info": {
   "codemirror_mode": {
    "name": "ipython",
    "version": 3
   },
   "file_extension": ".py",
   "mimetype": "text/x-python",
   "name": "python",
   "nbconvert_exporter": "python",
   "pygments_lexer": "ipython3",
   "version": "3.10.16"
  }
 },
 "nbformat": 4,
 "nbformat_minor": 2
}
