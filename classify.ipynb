{
 "cells": [
  {
   "cell_type": "code",
   "execution_count": 1,
   "metadata": {},
   "outputs": [],
   "source": [
    "import numpy as np\n",
    "import pandas as pd\n",
    "import os"
   ]
  },
  {
   "cell_type": "code",
   "execution_count": 2,
   "metadata": {},
   "outputs": [],
   "source": [
    "dataset_dir = 'eeg-feature-generation/dataset/original_data'\n",
    "\n",
    "datasets = os.listdir(dataset_dir)\n",
    "datasets_df = pd.DataFrame({'filenames': datasets})"
   ]
  },
  {
   "cell_type": "code",
   "execution_count": 3,
   "metadata": {},
   "outputs": [
    {
     "data": {
      "text/plain": [
       "0         name-concentrating-1.csv\n",
       "1     subjecta-concentrating-1.csv\n",
       "2     subjecta-concentrating-2.csv\n",
       "3           subjecta-neutral-1.csv\n",
       "4           subjecta-neutral-2.csv\n",
       "5           subjecta-relaxed-1.csv\n",
       "6           subjecta-relaxed-2.csv\n",
       "7     subjectb-concentrating-1.csv\n",
       "8     subjectb-concentrating-2.csv\n",
       "9           subjectb-neutral-1.csv\n",
       "10          subjectb-neutral-2.csv\n",
       "11          subjectb-relaxed-1.csv\n",
       "12          subjectb-relaxed-2.csv\n",
       "13    subjectc-concentrating-1.csv\n",
       "14    subjectc-concentrating-2.csv\n",
       "15          subjectc-neutral-1.csv\n",
       "16          subjectc-neutral-2.csv\n",
       "17          subjectc-relaxed-1.csv\n",
       "18          subjectc-relaxed-2.csv\n",
       "19    subjectd-concentrating-1.csv\n",
       "20    subjectd-concentrating-2.csv\n",
       "21          subjectd-neutral-1.csv\n",
       "22          subjectd-neutral-2.csv\n",
       "23          subjectd-relaxed-1.csv\n",
       "24          subjectd-relaxed-2.csv\n",
       "Name: filenames, dtype: object"
      ]
     },
     "execution_count": 3,
     "metadata": {},
     "output_type": "execute_result"
    }
   ],
   "source": [
    "datasets_df['filenames']"
   ]
  },
  {
   "cell_type": "code",
   "execution_count": 83,
   "metadata": {},
   "outputs": [],
   "source": [
    "classes = ['concentrating', 'neutral', 'relaxed']\n",
    "datasets_by_class = {'concentrating':[], 'neutral':[], 'relaxed':[]}\n",
    "window_size = 256 #samples\n",
    "\n",
    "\n",
    "for class_name in classes:\n",
    "    datasets = datasets_df[datasets_df['filenames'].str.contains(class_name)]\n",
    "\n",
    "    for filename in datasets['filenames']:\n",
    "        sub_df = pd.read_csv(f\"{dataset_dir}/{filename}\") \n",
    "\n",
    "        windows = []\n",
    "        cur_window = []\n",
    "        sample_count = 0\n",
    "\n",
    "        for row in range(sub_df.shape[0]):\n",
    "            sample_count+=1\n",
    "            cur_window.append(sub_df.iloc[row])\n",
    "\n",
    "            if sample_count == window_size:\n",
    "                windows.append(cur_window)\n",
    "                cur_window = []\n",
    "                sample_count = 0\n",
    "\n",
    "        # datasets_by_class[class_name].append(np.array(windows))\n",
    "        datasets_by_class[class_name]+=windows"
   ]
  },
  {
   "cell_type": "code",
   "execution_count": 84,
   "metadata": {},
   "outputs": [],
   "source": [
    "concentrating_data = np.asarray(datasets_by_class['concentrating'], dtype='object')\n",
    "neutral_data = np.asarray(datasets_by_class['neutral'], dtype='object')\n",
    "relaxed_data = np.asarray(datasets_by_class['relaxed'], dtype='object')"
   ]
  },
  {
   "cell_type": "code",
   "execution_count": 85,
   "metadata": {},
   "outputs": [
    {
     "name": "stdout",
     "output_type": "stream",
     "text": [
      "(423, 256, 6)\n",
      "(422, 256, 6)\n",
      "(454, 256, 6)\n"
     ]
    }
   ],
   "source": [
    "print(concentrating_data.shape)\n",
    "print(neutral_data.shape)\n",
    "print(relaxed_data.shape)"
   ]
  },
  {
   "cell_type": "code",
   "execution_count": 107,
   "metadata": {},
   "outputs": [
    {
     "name": "stdout",
     "output_type": "stream",
     "text": [
      "(256,)\n"
     ]
    }
   ],
   "source": [
    "matrix = concentrating_data[0][:,1]\n",
    "print(matrix.shape)"
   ]
  },
  {
   "cell_type": "code",
   "execution_count": 111,
   "metadata": {},
   "outputs": [
    {
     "ename": "ModuleNotFoundError",
     "evalue": "No module named 'tensorflow'",
     "output_type": "error",
     "traceback": [
      "\u001b[1;31m---------------------------------------------------------------------------\u001b[0m",
      "\u001b[1;31mModuleNotFoundError\u001b[0m                       Traceback (most recent call last)",
      "Cell \u001b[1;32mIn[111], line 1\u001b[0m\n\u001b[1;32m----> 1\u001b[0m \u001b[38;5;28;01mimport\u001b[39;00m \u001b[38;5;21;01mtensorflow\u001b[39;00m \u001b[38;5;28;01mas\u001b[39;00m \u001b[38;5;21;01mtf\u001b[39;00m\n\u001b[0;32m      2\u001b[0m \u001b[38;5;28;01mfrom\u001b[39;00m \u001b[38;5;21;01mtensorflow\u001b[39;00m \u001b[38;5;28;01mimport\u001b[39;00m keras\n\u001b[0;32m      3\u001b[0m \u001b[38;5;28;01mfrom\u001b[39;00m \u001b[38;5;21;01mtensorflow\u001b[39;00m\u001b[38;5;21;01m.\u001b[39;00m\u001b[38;5;21;01mkeras\u001b[39;00m \u001b[38;5;28;01mimport\u001b[39;00m layers\n",
      "\u001b[1;31mModuleNotFoundError\u001b[0m: No module named 'tensorflow'"
     ]
    }
   ],
   "source": [
    "import tensorflow as tf\n",
    "from tensorflow import keras\n",
    "from tensorflow.keras import layers\n",
    "\n",
    "# Define input shape (256x6 matrix with a single channel)\n",
    "input_shape = (256, 6)\n",
    "\n",
    "# Build the CNN model\n",
    "model = keras.Sequential([\n",
    "    layers.Conv1D(filters=32, kernel_size=3, activation='relu', input_shape=input_shape),\n",
    "    layers.MaxPooling1D(pool_size=2),\n",
    "    layers.Conv1D(filters=64, kernel_size=3, activation='relu'),\n",
    "    layers.MaxPooling1D(pool_size=2),\n",
    "    layers.Conv1D(filters=128, kernel_size=3, activation='relu'),\n",
    "    layers.GlobalAveragePooling1D(),\n",
    "    layers.Dense(64, activation='relu'),\n",
    "    layers.Dense(1, activation='sigmoid')  # Change activation for multi-class classification if needed\n",
    "])\n",
    "\n",
    "# Compile the model\n",
    "model.compile(optimizer='adam', loss='binary_crossentropy', metrics=['accuracy'])\n",
    "\n",
    "# Print model summary\n",
    "model.summary()\n"
   ]
  },
  {
   "cell_type": "code",
   "execution_count": null,
   "metadata": {},
   "outputs": [],
   "source": []
  }
 ],
 "metadata": {
  "kernelspec": {
   "display_name": "Python 3",
   "language": "python",
   "name": "python3"
  },
  "language_info": {
   "codemirror_mode": {
    "name": "ipython",
    "version": 3
   },
   "file_extension": ".py",
   "mimetype": "text/x-python",
   "name": "python",
   "nbconvert_exporter": "python",
   "pygments_lexer": "ipython3",
   "version": "3.11.9"
  }
 },
 "nbformat": 4,
 "nbformat_minor": 2
}
